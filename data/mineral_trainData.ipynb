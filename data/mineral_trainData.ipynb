{
  "nbformat": 4,
  "nbformat_minor": 0,
  "metadata": {
    "colab": {
      "provenance": []
    },
    "kernelspec": {
      "name": "python3",
      "display_name": "Python 3"
    },
    "language_info": {
      "name": "python"
    }
  },
  "cells": [
    {
      "cell_type": "markdown",
      "source": [
        "Training Data Project Akhir Aplikasi Web\n",
        "\n",
        "NAMA: Revalin Arianti Rajagukguk\n",
        "\n",
        "NIM:22537144009\n",
        "\n",
        "Kaggle: https://www.kaggle.com/datasets/youcefattallah97/minerals-identification-classification/data"
      ],
      "metadata": {
        "id": "5LiNNKRJYPhJ"
      }
    },
    {
      "cell_type": "code",
      "execution_count": null,
      "metadata": {
        "colab": {
          "base_uri": "https://localhost:8080/"
        },
        "id": "hTQ1Z1SescgL",
        "outputId": "0e9f6e41-661d-4a3a-906b-85c4918f5219"
      },
      "outputs": [
        {
          "output_type": "stream",
          "name": "stdout",
          "text": [
            "cp: cannot stat '/content/kaggle.json': No such file or directory\n",
            "chmod: cannot access '/root/.kaggle/kaggle.json': No such file or directory\n"
          ]
        }
      ],
      "source": [
        "!mkdir -p ~/.kaggle\n",
        "!cp /content/kaggle.json ~/.kaggle/\n",
        "!chmod 600 ~/.kaggle/kaggle.json"
      ]
    },
    {
      "cell_type": "code",
      "source": [
        "!ls ~/.kaggle"
      ],
      "metadata": {
        "id": "F70_WDU-s-vk"
      },
      "execution_count": null,
      "outputs": []
    },
    {
      "cell_type": "code",
      "source": [
        "!pip install split-folders"
      ],
      "metadata": {
        "colab": {
          "base_uri": "https://localhost:8080/"
        },
        "id": "YQwz1CcMtBSc",
        "outputId": "ffb04fd2-76b4-48b2-ae2b-03d84fbc4c38"
      },
      "execution_count": null,
      "outputs": [
        {
          "output_type": "stream",
          "name": "stdout",
          "text": [
            "Requirement already satisfied: split-folders in /usr/local/lib/python3.10/dist-packages (0.5.1)\n"
          ]
        }
      ]
    },
    {
      "cell_type": "code",
      "source": [
        "import tensorflow as tf\n",
        "print(tf.__version__)\n",
        "import zipfile,os\n",
        "import splitfolders\n",
        "import numpy as np\n",
        "\n",
        "from tensorflow.keras.preprocessing.image import ImageDataGenerator\n",
        "from tensorflow.keras.preprocessing import image\n",
        "from google.colab import files\n",
        "\n",
        "import matplotlib.pyplot as plt\n",
        "import matplotlib.image as mping\n",
        "%matplotlib inline"
      ],
      "metadata": {
        "colab": {
          "base_uri": "https://localhost:8080/"
        },
        "id": "ssKAqrl-tECr",
        "outputId": "5b4afcf8-0775-4ef5-9c87-5ebb28d1afeb"
      },
      "execution_count": null,
      "outputs": [
        {
          "output_type": "stream",
          "name": "stdout",
          "text": [
            "2.17.0\n"
          ]
        }
      ]
    },
    {
      "cell_type": "code",
      "source": [
        "!kaggle datasets download -d youcefattallah97/minerals-identification-classification"
      ],
      "metadata": {
        "colab": {
          "base_uri": "https://localhost:8080/"
        },
        "id": "V2oad5WjtHhG",
        "outputId": "347c128a-f862-4595-c5df-3f3739d4f85b"
      },
      "execution_count": null,
      "outputs": [
        {
          "output_type": "stream",
          "name": "stdout",
          "text": [
            "Dataset URL: https://www.kaggle.com/datasets/youcefattallah97/minerals-identification-classification\n",
            "License(s): DbCL-1.0\n",
            "minerals-identification-classification.zip: Skipping, found more recently modified local copy (use --force to force download)\n"
          ]
        }
      ]
    },
    {
      "cell_type": "code",
      "source": [
        "local_zip = 'minerals-identification-classification.zip'\n",
        "zip_ref = zipfile.ZipFile(local_zip, 'r')\n",
        "zip_ref.extractall('minerals-identification-classification')\n",
        "zip_ref.close()"
      ],
      "metadata": {
        "id": "SukU_fArtQi5"
      },
      "execution_count": null,
      "outputs": []
    },
    {
      "cell_type": "code",
      "source": [
        "splitfolders.ratio('minerals-identification-classification/Minet 5640 Images', output='minerals-identification-classification/data', seed=1327, ratio=(.6, .4))"
      ],
      "metadata": {
        "colab": {
          "base_uri": "https://localhost:8080/"
        },
        "id": "YpAVCOXyt8Gr",
        "outputId": "7a6104b8-eef6-4d8a-9a41-f7e85aafe5a8"
      },
      "execution_count": null,
      "outputs": [
        {
          "output_type": "stream",
          "name": "stderr",
          "text": [
            "Copying files: 5642 files [00:04, 1192.84 files/s]\n"
          ]
        }
      ]
    },
    {
      "cell_type": "code",
      "source": [
        "base_dir = 'minerals-identification-classification/data/'\n",
        "\n",
        "train_dir = os.path.join(base_dir, 'train')\n",
        "val_dir = os.path.join(base_dir, 'val')"
      ],
      "metadata": {
        "id": "8gzE5bi5u0iA"
      },
      "execution_count": null,
      "outputs": []
    },
    {
      "cell_type": "code",
      "source": [
        "train_datagen = ImageDataGenerator(\n",
        "    rescale = 1./255,\n",
        "    rotation_range = 20,\n",
        "    horizontal_flip = True,\n",
        "    shear_range = 0.2,\n",
        "    fill_mode = 'nearest'\n",
        ")\n",
        "\n",
        "validation_datagen = ImageDataGenerator(\n",
        "    rescale  =1./255,\n",
        "    rotation_range=20,\n",
        "    horizontal_flip = True,\n",
        "    shear_range = 0.2,\n",
        "    fill_mode = 'nearest'\n",
        "  )"
      ],
      "metadata": {
        "id": "-6sja5hmvbT4"
      },
      "execution_count": null,
      "outputs": []
    },
    {
      "cell_type": "code",
      "source": [
        "train_generator = train_datagen.flow_from_directory(\n",
        "    train_dir,\n",
        "    target_size = (150, 150),\n",
        "    batch_size = 32,\n",
        "    class_mode = 'categorical'\n",
        ")\n",
        "\n",
        "validation_generator = validation_datagen.flow_from_directory(\n",
        "    val_dir,\n",
        "    target_size = (150, 150),\n",
        "    batch_size = 32,\n",
        "    class_mode = 'categorical'\n",
        ")"
      ],
      "metadata": {
        "colab": {
          "base_uri": "https://localhost:8080/"
        },
        "id": "4EL6B_vgvgQF",
        "outputId": "a57948bd-7f38-46e0-ff69-7f0a9454dac6"
      },
      "execution_count": null,
      "outputs": [
        {
          "output_type": "stream",
          "name": "stdout",
          "text": [
            "Found 3382 images belonging to 9 classes.\n",
            "Found 2258 images belonging to 9 classes.\n"
          ]
        }
      ]
    },
    {
      "cell_type": "code",
      "source": [
        "import os\n",
        "\n",
        "# Pastikan base_dir sudah diperbaiki seperti yang dijelaskan sebelumnya\n",
        "base_dir = 'minerals-identification-classification/data/'\n",
        "train_dir = os.path.join(base_dir, 'train')\n",
        "\n",
        "# Dapatkan daftar kelas dari subdirektori di dalam train_dir\n",
        "classes = os.listdir(train_dir)\n",
        "\n",
        "# Cetak daftar kelas\n",
        "print(\"Kelas-kelas yang ditemukan:\")\n",
        "for class_name in classes:\n",
        "    print(class_name)"
      ],
      "metadata": {
        "colab": {
          "base_uri": "https://localhost:8080/"
        },
        "id": "jfPwpiDuw_Fw",
        "outputId": "0301e455-c8f0-4614-ed36-0cc451e97131"
      },
      "execution_count": null,
      "outputs": [
        {
          "output_type": "stream",
          "name": "stdout",
          "text": [
            "Kelas-kelas yang ditemukan:\n",
            "Minet 5640 Images\n",
            "pyrite\n",
            "malachite\n",
            "quartz\n",
            ".ipynb_checkpoints\n",
            "chrysocolla\n",
            "biotite\n",
            "bornite\n",
            "muscovite\n"
          ]
        }
      ]
    },
    {
      "cell_type": "code",
      "source": [
        "import os\n",
        "import shutil\n",
        "\n",
        "def delete_class(base_dir, class_name):\n",
        "    \"\"\"\n",
        "    Menghapus kelas dan semua gambar yang terkait dengan kelas tersebut.\n",
        "\n",
        "    Args:\n",
        "        base_dir: Jalur direktori dasar data (misalnya, 'minerals-identification-classification/data/').\n",
        "        class_name: Nama kelas yang ingin dihapus.\n",
        "    \"\"\"\n",
        "    train_class_dir = os.path.join(base_dir, 'train', class_name)\n",
        "    val_class_dir = os.path.join(base_dir, 'val', class_name)\n",
        "\n",
        "    # Hapus direktori kelas di folder train dan val\n",
        "    if os.path.exists(train_class_dir):\n",
        "        shutil.rmtree(train_class_dir)\n",
        "        print(f\"Kelas '{class_name}' dihapus dari direktori train.\")\n",
        "    else:\n",
        "        print(f\"Kelas '{class_name}' tidak ditemukan di direktori train.\")\n",
        "\n",
        "    if os.path.exists(val_class_dir):\n",
        "        shutil.rmtree(val_class_dir)\n",
        "        print(f\"Kelas '{class_name}' dihapus dari direktori val.\")\n",
        "    else:\n",
        "        print(f\"Kelas '{class_name}' tidak ditemukan di direktori val.\")\n",
        "\n",
        "# Jalur direktori dasar\n",
        "base_dir = 'minerals-identification-classification/data/'\n",
        "\n",
        "# Daftar kelas yang ingin dihapus\n",
        "classes_to_delete = ['Minet 5640 Images', '.ipynb_checkpoints']\n",
        "\n",
        "# Hapus setiap kelas dalam daftar\n",
        "for class_name in classes_to_delete:\n",
        "    delete_class(base_dir, class_name)"
      ],
      "metadata": {
        "colab": {
          "base_uri": "https://localhost:8080/"
        },
        "id": "OYLlDIGLxoGi",
        "outputId": "bf783209-27ec-4620-cad1-bdb43715d1fb"
      },
      "execution_count": null,
      "outputs": [
        {
          "output_type": "stream",
          "name": "stdout",
          "text": [
            "Kelas 'Minet 5640 Images' dihapus dari direktori train.\n",
            "Kelas 'Minet 5640 Images' dihapus dari direktori val.\n",
            "Kelas '.ipynb_checkpoints' dihapus dari direktori train.\n",
            "Kelas '.ipynb_checkpoints' dihapus dari direktori val.\n"
          ]
        }
      ]
    },
    {
      "cell_type": "code",
      "source": [
        "train_generator = train_datagen.flow_from_directory(\n",
        "    train_dir,\n",
        "    target_size = (150, 150),\n",
        "    batch_size = 32,\n",
        "    class_mode = 'categorical'\n",
        ")\n",
        "\n",
        "validation_generator = validation_datagen.flow_from_directory(\n",
        "    val_dir,\n",
        "    target_size = (150, 150),\n",
        "    batch_size = 32,\n",
        "    class_mode = 'categorical'\n",
        ")"
      ],
      "metadata": {
        "colab": {
          "base_uri": "https://localhost:8080/"
        },
        "id": "HHqUvyONyJ9b",
        "outputId": "32255256-0668-4c40-ccd5-e7f46a708d44"
      },
      "execution_count": null,
      "outputs": [
        {
          "output_type": "stream",
          "name": "stdout",
          "text": [
            "Found 3382 images belonging to 7 classes.\n",
            "Found 2258 images belonging to 7 classes.\n"
          ]
        }
      ]
    },
    {
      "cell_type": "code",
      "source": [
        "import os\n",
        "\n",
        "# Pastikan base_dir sudah diperbaiki seperti yang dijelaskan sebelumnya\n",
        "base_dir = 'minerals-identification-classification/data/'\n",
        "train_dir = os.path.join(base_dir, 'train')\n",
        "\n",
        "# Dapatkan daftar kelas dari subdirektori di dalam train_dir\n",
        "classes = os.listdir(train_dir)\n",
        "\n",
        "# Cetak daftar kelas\n",
        "print(\"Kelas-kelas yang ditemukan:\")\n",
        "for class_name in classes:\n",
        "    print(class_name)"
      ],
      "metadata": {
        "colab": {
          "base_uri": "https://localhost:8080/"
        },
        "id": "zzKWcBonyFY5",
        "outputId": "9d5786eb-5430-431c-faee-f3a7a66f4507"
      },
      "execution_count": null,
      "outputs": [
        {
          "output_type": "stream",
          "name": "stdout",
          "text": [
            "Kelas-kelas yang ditemukan:\n",
            "pyrite\n",
            "malachite\n",
            "quartz\n",
            "chrysocolla\n",
            "biotite\n",
            "bornite\n",
            "muscovite\n"
          ]
        }
      ]
    },
    {
      "cell_type": "code",
      "source": [
        "model = tf.keras.models.Sequential([\n",
        "    tf.keras.layers.Conv2D(32, (3,3), activation='relu', input_shape=(150,150,3)),\n",
        "    tf.keras.layers.MaxPooling2D(2,2),\n",
        "    tf.keras.layers.Conv2D(64, (3,3), activation='relu'),\n",
        "    tf.keras.layers.MaxPooling2D(2,2),\n",
        "    tf.keras.layers.Conv2D(128, (3,3), activation='relu'),\n",
        "    tf.keras.layers.MaxPooling2D(2,2),\n",
        "    tf.keras.layers.Conv2D(128, (3,3), activation='relu'),\n",
        "    tf.keras.layers.MaxPooling2D(2,2),\n",
        "    tf.keras.layers.Conv2D(256, (3,3), activation='relu'),\n",
        "    tf.keras.layers.MaxPooling2D(2,2),\n",
        "    tf.keras.layers.Flatten(),\n",
        "    tf.keras.layers.Dense(512, activation='relu'),\n",
        "    tf.keras.layers.Dense(7, activation='softmax')\n",
        "])"
      ],
      "metadata": {
        "colab": {
          "base_uri": "https://localhost:8080/"
        },
        "id": "FZX6pyK3yMXY",
        "outputId": "8afa8d5c-744d-472a-bd64-72dfda8fdf41"
      },
      "execution_count": null,
      "outputs": [
        {
          "output_type": "stream",
          "name": "stderr",
          "text": [
            "/usr/local/lib/python3.10/dist-packages/keras/src/layers/convolutional/base_conv.py:107: UserWarning: Do not pass an `input_shape`/`input_dim` argument to a layer. When using Sequential models, prefer using an `Input(shape)` object as the first layer in the model instead.\n",
            "  super().__init__(activity_regularizer=activity_regularizer, **kwargs)\n"
          ]
        }
      ]
    },
    {
      "cell_type": "code",
      "source": [
        "model.summary()"
      ],
      "metadata": {
        "colab": {
          "base_uri": "https://localhost:8080/",
          "height": 545
        },
        "id": "akkdja_ZyTds",
        "outputId": "76053309-9772-4e22-bc8e-75c3afd6aada"
      },
      "execution_count": null,
      "outputs": [
        {
          "output_type": "display_data",
          "data": {
            "text/plain": [
              "\u001b[1mModel: \"sequential_1\"\u001b[0m\n"
            ],
            "text/html": [
              "<pre style=\"white-space:pre;overflow-x:auto;line-height:normal;font-family:Menlo,'DejaVu Sans Mono',consolas,'Courier New',monospace\"><span style=\"font-weight: bold\">Model: \"sequential_1\"</span>\n",
              "</pre>\n"
            ]
          },
          "metadata": {}
        },
        {
          "output_type": "display_data",
          "data": {
            "text/plain": [
              "┏━━━━━━━━━━━━━━━━━━━━━━━━━━━━━━━━━━━━━━┳━━━━━━━━━━━━━━━━━━━━━━━━━━━━━┳━━━━━━━━━━━━━━━━━┓\n",
              "┃\u001b[1m \u001b[0m\u001b[1mLayer (type)                        \u001b[0m\u001b[1m \u001b[0m┃\u001b[1m \u001b[0m\u001b[1mOutput Shape               \u001b[0m\u001b[1m \u001b[0m┃\u001b[1m \u001b[0m\u001b[1m        Param #\u001b[0m\u001b[1m \u001b[0m┃\n",
              "┡━━━━━━━━━━━━━━━━━━━━━━━━━━━━━━━━━━━━━━╇━━━━━━━━━━━━━━━━━━━━━━━━━━━━━╇━━━━━━━━━━━━━━━━━┩\n",
              "│ conv2d_5 (\u001b[38;5;33mConv2D\u001b[0m)                    │ (\u001b[38;5;45mNone\u001b[0m, \u001b[38;5;34m148\u001b[0m, \u001b[38;5;34m148\u001b[0m, \u001b[38;5;34m32\u001b[0m)        │             \u001b[38;5;34m896\u001b[0m │\n",
              "├──────────────────────────────────────┼─────────────────────────────┼─────────────────┤\n",
              "│ max_pooling2d_5 (\u001b[38;5;33mMaxPooling2D\u001b[0m)       │ (\u001b[38;5;45mNone\u001b[0m, \u001b[38;5;34m74\u001b[0m, \u001b[38;5;34m74\u001b[0m, \u001b[38;5;34m32\u001b[0m)          │               \u001b[38;5;34m0\u001b[0m │\n",
              "├──────────────────────────────────────┼─────────────────────────────┼─────────────────┤\n",
              "│ conv2d_6 (\u001b[38;5;33mConv2D\u001b[0m)                    │ (\u001b[38;5;45mNone\u001b[0m, \u001b[38;5;34m72\u001b[0m, \u001b[38;5;34m72\u001b[0m, \u001b[38;5;34m64\u001b[0m)          │          \u001b[38;5;34m18,496\u001b[0m │\n",
              "├──────────────────────────────────────┼─────────────────────────────┼─────────────────┤\n",
              "│ max_pooling2d_6 (\u001b[38;5;33mMaxPooling2D\u001b[0m)       │ (\u001b[38;5;45mNone\u001b[0m, \u001b[38;5;34m36\u001b[0m, \u001b[38;5;34m36\u001b[0m, \u001b[38;5;34m64\u001b[0m)          │               \u001b[38;5;34m0\u001b[0m │\n",
              "├──────────────────────────────────────┼─────────────────────────────┼─────────────────┤\n",
              "│ conv2d_7 (\u001b[38;5;33mConv2D\u001b[0m)                    │ (\u001b[38;5;45mNone\u001b[0m, \u001b[38;5;34m34\u001b[0m, \u001b[38;5;34m34\u001b[0m, \u001b[38;5;34m128\u001b[0m)         │          \u001b[38;5;34m73,856\u001b[0m │\n",
              "├──────────────────────────────────────┼─────────────────────────────┼─────────────────┤\n",
              "│ max_pooling2d_7 (\u001b[38;5;33mMaxPooling2D\u001b[0m)       │ (\u001b[38;5;45mNone\u001b[0m, \u001b[38;5;34m17\u001b[0m, \u001b[38;5;34m17\u001b[0m, \u001b[38;5;34m128\u001b[0m)         │               \u001b[38;5;34m0\u001b[0m │\n",
              "├──────────────────────────────────────┼─────────────────────────────┼─────────────────┤\n",
              "│ conv2d_8 (\u001b[38;5;33mConv2D\u001b[0m)                    │ (\u001b[38;5;45mNone\u001b[0m, \u001b[38;5;34m15\u001b[0m, \u001b[38;5;34m15\u001b[0m, \u001b[38;5;34m128\u001b[0m)         │         \u001b[38;5;34m147,584\u001b[0m │\n",
              "├──────────────────────────────────────┼─────────────────────────────┼─────────────────┤\n",
              "│ max_pooling2d_8 (\u001b[38;5;33mMaxPooling2D\u001b[0m)       │ (\u001b[38;5;45mNone\u001b[0m, \u001b[38;5;34m7\u001b[0m, \u001b[38;5;34m7\u001b[0m, \u001b[38;5;34m128\u001b[0m)           │               \u001b[38;5;34m0\u001b[0m │\n",
              "├──────────────────────────────────────┼─────────────────────────────┼─────────────────┤\n",
              "│ conv2d_9 (\u001b[38;5;33mConv2D\u001b[0m)                    │ (\u001b[38;5;45mNone\u001b[0m, \u001b[38;5;34m5\u001b[0m, \u001b[38;5;34m5\u001b[0m, \u001b[38;5;34m256\u001b[0m)           │         \u001b[38;5;34m295,168\u001b[0m │\n",
              "├──────────────────────────────────────┼─────────────────────────────┼─────────────────┤\n",
              "│ max_pooling2d_9 (\u001b[38;5;33mMaxPooling2D\u001b[0m)       │ (\u001b[38;5;45mNone\u001b[0m, \u001b[38;5;34m2\u001b[0m, \u001b[38;5;34m2\u001b[0m, \u001b[38;5;34m256\u001b[0m)           │               \u001b[38;5;34m0\u001b[0m │\n",
              "├──────────────────────────────────────┼─────────────────────────────┼─────────────────┤\n",
              "│ flatten_1 (\u001b[38;5;33mFlatten\u001b[0m)                  │ (\u001b[38;5;45mNone\u001b[0m, \u001b[38;5;34m1024\u001b[0m)                │               \u001b[38;5;34m0\u001b[0m │\n",
              "├──────────────────────────────────────┼─────────────────────────────┼─────────────────┤\n",
              "│ dense_2 (\u001b[38;5;33mDense\u001b[0m)                      │ (\u001b[38;5;45mNone\u001b[0m, \u001b[38;5;34m512\u001b[0m)                 │         \u001b[38;5;34m524,800\u001b[0m │\n",
              "├──────────────────────────────────────┼─────────────────────────────┼─────────────────┤\n",
              "│ dense_3 (\u001b[38;5;33mDense\u001b[0m)                      │ (\u001b[38;5;45mNone\u001b[0m, \u001b[38;5;34m7\u001b[0m)                   │           \u001b[38;5;34m3,591\u001b[0m │\n",
              "└──────────────────────────────────────┴─────────────────────────────┴─────────────────┘\n"
            ],
            "text/html": [
              "<pre style=\"white-space:pre;overflow-x:auto;line-height:normal;font-family:Menlo,'DejaVu Sans Mono',consolas,'Courier New',monospace\">┏━━━━━━━━━━━━━━━━━━━━━━━━━━━━━━━━━━━━━━┳━━━━━━━━━━━━━━━━━━━━━━━━━━━━━┳━━━━━━━━━━━━━━━━━┓\n",
              "┃<span style=\"font-weight: bold\"> Layer (type)                         </span>┃<span style=\"font-weight: bold\"> Output Shape                </span>┃<span style=\"font-weight: bold\">         Param # </span>┃\n",
              "┡━━━━━━━━━━━━━━━━━━━━━━━━━━━━━━━━━━━━━━╇━━━━━━━━━━━━━━━━━━━━━━━━━━━━━╇━━━━━━━━━━━━━━━━━┩\n",
              "│ conv2d_5 (<span style=\"color: #0087ff; text-decoration-color: #0087ff\">Conv2D</span>)                    │ (<span style=\"color: #00d7ff; text-decoration-color: #00d7ff\">None</span>, <span style=\"color: #00af00; text-decoration-color: #00af00\">148</span>, <span style=\"color: #00af00; text-decoration-color: #00af00\">148</span>, <span style=\"color: #00af00; text-decoration-color: #00af00\">32</span>)        │             <span style=\"color: #00af00; text-decoration-color: #00af00\">896</span> │\n",
              "├──────────────────────────────────────┼─────────────────────────────┼─────────────────┤\n",
              "│ max_pooling2d_5 (<span style=\"color: #0087ff; text-decoration-color: #0087ff\">MaxPooling2D</span>)       │ (<span style=\"color: #00d7ff; text-decoration-color: #00d7ff\">None</span>, <span style=\"color: #00af00; text-decoration-color: #00af00\">74</span>, <span style=\"color: #00af00; text-decoration-color: #00af00\">74</span>, <span style=\"color: #00af00; text-decoration-color: #00af00\">32</span>)          │               <span style=\"color: #00af00; text-decoration-color: #00af00\">0</span> │\n",
              "├──────────────────────────────────────┼─────────────────────────────┼─────────────────┤\n",
              "│ conv2d_6 (<span style=\"color: #0087ff; text-decoration-color: #0087ff\">Conv2D</span>)                    │ (<span style=\"color: #00d7ff; text-decoration-color: #00d7ff\">None</span>, <span style=\"color: #00af00; text-decoration-color: #00af00\">72</span>, <span style=\"color: #00af00; text-decoration-color: #00af00\">72</span>, <span style=\"color: #00af00; text-decoration-color: #00af00\">64</span>)          │          <span style=\"color: #00af00; text-decoration-color: #00af00\">18,496</span> │\n",
              "├──────────────────────────────────────┼─────────────────────────────┼─────────────────┤\n",
              "│ max_pooling2d_6 (<span style=\"color: #0087ff; text-decoration-color: #0087ff\">MaxPooling2D</span>)       │ (<span style=\"color: #00d7ff; text-decoration-color: #00d7ff\">None</span>, <span style=\"color: #00af00; text-decoration-color: #00af00\">36</span>, <span style=\"color: #00af00; text-decoration-color: #00af00\">36</span>, <span style=\"color: #00af00; text-decoration-color: #00af00\">64</span>)          │               <span style=\"color: #00af00; text-decoration-color: #00af00\">0</span> │\n",
              "├──────────────────────────────────────┼─────────────────────────────┼─────────────────┤\n",
              "│ conv2d_7 (<span style=\"color: #0087ff; text-decoration-color: #0087ff\">Conv2D</span>)                    │ (<span style=\"color: #00d7ff; text-decoration-color: #00d7ff\">None</span>, <span style=\"color: #00af00; text-decoration-color: #00af00\">34</span>, <span style=\"color: #00af00; text-decoration-color: #00af00\">34</span>, <span style=\"color: #00af00; text-decoration-color: #00af00\">128</span>)         │          <span style=\"color: #00af00; text-decoration-color: #00af00\">73,856</span> │\n",
              "├──────────────────────────────────────┼─────────────────────────────┼─────────────────┤\n",
              "│ max_pooling2d_7 (<span style=\"color: #0087ff; text-decoration-color: #0087ff\">MaxPooling2D</span>)       │ (<span style=\"color: #00d7ff; text-decoration-color: #00d7ff\">None</span>, <span style=\"color: #00af00; text-decoration-color: #00af00\">17</span>, <span style=\"color: #00af00; text-decoration-color: #00af00\">17</span>, <span style=\"color: #00af00; text-decoration-color: #00af00\">128</span>)         │               <span style=\"color: #00af00; text-decoration-color: #00af00\">0</span> │\n",
              "├──────────────────────────────────────┼─────────────────────────────┼─────────────────┤\n",
              "│ conv2d_8 (<span style=\"color: #0087ff; text-decoration-color: #0087ff\">Conv2D</span>)                    │ (<span style=\"color: #00d7ff; text-decoration-color: #00d7ff\">None</span>, <span style=\"color: #00af00; text-decoration-color: #00af00\">15</span>, <span style=\"color: #00af00; text-decoration-color: #00af00\">15</span>, <span style=\"color: #00af00; text-decoration-color: #00af00\">128</span>)         │         <span style=\"color: #00af00; text-decoration-color: #00af00\">147,584</span> │\n",
              "├──────────────────────────────────────┼─────────────────────────────┼─────────────────┤\n",
              "│ max_pooling2d_8 (<span style=\"color: #0087ff; text-decoration-color: #0087ff\">MaxPooling2D</span>)       │ (<span style=\"color: #00d7ff; text-decoration-color: #00d7ff\">None</span>, <span style=\"color: #00af00; text-decoration-color: #00af00\">7</span>, <span style=\"color: #00af00; text-decoration-color: #00af00\">7</span>, <span style=\"color: #00af00; text-decoration-color: #00af00\">128</span>)           │               <span style=\"color: #00af00; text-decoration-color: #00af00\">0</span> │\n",
              "├──────────────────────────────────────┼─────────────────────────────┼─────────────────┤\n",
              "│ conv2d_9 (<span style=\"color: #0087ff; text-decoration-color: #0087ff\">Conv2D</span>)                    │ (<span style=\"color: #00d7ff; text-decoration-color: #00d7ff\">None</span>, <span style=\"color: #00af00; text-decoration-color: #00af00\">5</span>, <span style=\"color: #00af00; text-decoration-color: #00af00\">5</span>, <span style=\"color: #00af00; text-decoration-color: #00af00\">256</span>)           │         <span style=\"color: #00af00; text-decoration-color: #00af00\">295,168</span> │\n",
              "├──────────────────────────────────────┼─────────────────────────────┼─────────────────┤\n",
              "│ max_pooling2d_9 (<span style=\"color: #0087ff; text-decoration-color: #0087ff\">MaxPooling2D</span>)       │ (<span style=\"color: #00d7ff; text-decoration-color: #00d7ff\">None</span>, <span style=\"color: #00af00; text-decoration-color: #00af00\">2</span>, <span style=\"color: #00af00; text-decoration-color: #00af00\">2</span>, <span style=\"color: #00af00; text-decoration-color: #00af00\">256</span>)           │               <span style=\"color: #00af00; text-decoration-color: #00af00\">0</span> │\n",
              "├──────────────────────────────────────┼─────────────────────────────┼─────────────────┤\n",
              "│ flatten_1 (<span style=\"color: #0087ff; text-decoration-color: #0087ff\">Flatten</span>)                  │ (<span style=\"color: #00d7ff; text-decoration-color: #00d7ff\">None</span>, <span style=\"color: #00af00; text-decoration-color: #00af00\">1024</span>)                │               <span style=\"color: #00af00; text-decoration-color: #00af00\">0</span> │\n",
              "├──────────────────────────────────────┼─────────────────────────────┼─────────────────┤\n",
              "│ dense_2 (<span style=\"color: #0087ff; text-decoration-color: #0087ff\">Dense</span>)                      │ (<span style=\"color: #00d7ff; text-decoration-color: #00d7ff\">None</span>, <span style=\"color: #00af00; text-decoration-color: #00af00\">512</span>)                 │         <span style=\"color: #00af00; text-decoration-color: #00af00\">524,800</span> │\n",
              "├──────────────────────────────────────┼─────────────────────────────┼─────────────────┤\n",
              "│ dense_3 (<span style=\"color: #0087ff; text-decoration-color: #0087ff\">Dense</span>)                      │ (<span style=\"color: #00d7ff; text-decoration-color: #00d7ff\">None</span>, <span style=\"color: #00af00; text-decoration-color: #00af00\">7</span>)                   │           <span style=\"color: #00af00; text-decoration-color: #00af00\">3,591</span> │\n",
              "└──────────────────────────────────────┴─────────────────────────────┴─────────────────┘\n",
              "</pre>\n"
            ]
          },
          "metadata": {}
        },
        {
          "output_type": "display_data",
          "data": {
            "text/plain": [
              "\u001b[1m Total params: \u001b[0m\u001b[38;5;34m1,064,391\u001b[0m (4.06 MB)\n"
            ],
            "text/html": [
              "<pre style=\"white-space:pre;overflow-x:auto;line-height:normal;font-family:Menlo,'DejaVu Sans Mono',consolas,'Courier New',monospace\"><span style=\"font-weight: bold\"> Total params: </span><span style=\"color: #00af00; text-decoration-color: #00af00\">1,064,391</span> (4.06 MB)\n",
              "</pre>\n"
            ]
          },
          "metadata": {}
        },
        {
          "output_type": "display_data",
          "data": {
            "text/plain": [
              "\u001b[1m Trainable params: \u001b[0m\u001b[38;5;34m1,064,391\u001b[0m (4.06 MB)\n"
            ],
            "text/html": [
              "<pre style=\"white-space:pre;overflow-x:auto;line-height:normal;font-family:Menlo,'DejaVu Sans Mono',consolas,'Courier New',monospace\"><span style=\"font-weight: bold\"> Trainable params: </span><span style=\"color: #00af00; text-decoration-color: #00af00\">1,064,391</span> (4.06 MB)\n",
              "</pre>\n"
            ]
          },
          "metadata": {}
        },
        {
          "output_type": "display_data",
          "data": {
            "text/plain": [
              "\u001b[1m Non-trainable params: \u001b[0m\u001b[38;5;34m0\u001b[0m (0.00 B)\n"
            ],
            "text/html": [
              "<pre style=\"white-space:pre;overflow-x:auto;line-height:normal;font-family:Menlo,'DejaVu Sans Mono',consolas,'Courier New',monospace\"><span style=\"font-weight: bold\"> Non-trainable params: </span><span style=\"color: #00af00; text-decoration-color: #00af00\">0</span> (0.00 B)\n",
              "</pre>\n"
            ]
          },
          "metadata": {}
        }
      ]
    },
    {
      "cell_type": "code",
      "source": [
        "model.compile(\n",
        "    loss = 'categorical_crossentropy',\n",
        "    optimizer = tf.optimizers.Adam(),\n",
        "    metrics = ['accuracy']\n",
        ")"
      ],
      "metadata": {
        "id": "7gj9JTbIyWKG"
      },
      "execution_count": null,
      "outputs": []
    },
    {
      "cell_type": "code",
      "source": [
        "model.compile(\n",
        "    loss = 'categorical_crossentropy',\n",
        "    optimizer = tf.optimizers.Adam(),\n",
        "    metrics = ['accuracy']\n",
        ")"
      ],
      "metadata": {
        "id": "x1q5530dyX9s"
      },
      "execution_count": null,
      "outputs": []
    },
    {
      "cell_type": "code",
      "source": [
        "# EarlyStopping callback\n",
        "es = tf.keras.callbacks.EarlyStopping(\n",
        "    monitor='val_loss',\n",
        "    min_delta=0.001,\n",
        "    patience=10,\n",
        "    verbose=1,\n",
        "    restore_best_weights=True\n",
        ")\n",
        "\n",
        "# TensorBoard callback\n",
        "tb = tf.keras.callbacks.TensorBoard(log_dir='tensorboard_logs')\n"
      ],
      "metadata": {
        "id": "9RsTE6MEyaH5"
      },
      "execution_count": null,
      "outputs": []
    },
    {
      "cell_type": "code",
      "source": [
        "history = model.fit(\n",
        "    train_generator,\n",
        "    steps_per_epoch=30,\n",
        "    epochs=50,\n",
        "    validation_data=validation_generator,\n",
        "    validation_steps=20,\n",
        "    verbose=2,\n",
        "    callbacks=[es, tb]\n",
        ")"
      ],
      "metadata": {
        "colab": {
          "base_uri": "https://localhost:8080/"
        },
        "id": "3L7lIUZWybiF",
        "outputId": "1f94c295-6292-44e1-af9a-378eccacc8ac"
      },
      "execution_count": null,
      "outputs": [
        {
          "output_type": "stream",
          "name": "stdout",
          "text": [
            "Epoch 1/50\n",
            "30/30 - 83s - 3s/step - accuracy: 0.6687 - loss: 0.9289 - val_accuracy: 0.6094 - val_loss: 1.0969\n",
            "Epoch 2/50\n",
            "30/30 - 73s - 2s/step - accuracy: 0.6589 - loss: 0.9512 - val_accuracy: 0.6172 - val_loss: 1.0205\n",
            "Epoch 3/50\n",
            "30/30 - 74s - 2s/step - accuracy: 0.6729 - loss: 0.9003 - val_accuracy: 0.6344 - val_loss: 1.0633\n",
            "Epoch 4/50\n",
            "30/30 - 38s - 1s/step - accuracy: 0.6914 - loss: 0.8484 - val_accuracy: 0.6450 - val_loss: 1.0100\n",
            "Epoch 5/50\n",
            "30/30 - 132s - 4s/step - accuracy: 0.6854 - loss: 0.8651 - val_accuracy: 0.6016 - val_loss: 1.0375\n",
            "Epoch 6/50\n",
            "30/30 - 75s - 3s/step - accuracy: 0.6833 - loss: 0.8291 - val_accuracy: 0.6234 - val_loss: 1.0473\n",
            "Epoch 7/50\n",
            "30/30 - 74s - 2s/step - accuracy: 0.6937 - loss: 0.8591 - val_accuracy: 0.6391 - val_loss: 1.0071\n",
            "Epoch 8/50\n",
            "30/30 - 38s - 1s/step - accuracy: 0.6816 - loss: 0.8506 - val_accuracy: 0.6805 - val_loss: 0.9091\n",
            "Epoch 9/50\n",
            "30/30 - 136s - 5s/step - accuracy: 0.7323 - loss: 0.7467 - val_accuracy: 0.6844 - val_loss: 0.9073\n",
            "Epoch 10/50\n",
            "30/30 - 76s - 3s/step - accuracy: 0.7385 - loss: 0.7685 - val_accuracy: 0.6734 - val_loss: 0.9646\n",
            "Epoch 11/50\n",
            "30/30 - 74s - 2s/step - accuracy: 0.7095 - loss: 0.7896 - val_accuracy: 0.7047 - val_loss: 0.9396\n",
            "Epoch 12/50\n",
            "30/30 - 35s - 1s/step - accuracy: 0.7051 - loss: 0.7709 - val_accuracy: 0.6686 - val_loss: 0.9659\n",
            "Epoch 13/50\n",
            "30/30 - 80s - 3s/step - accuracy: 0.7594 - loss: 0.7117 - val_accuracy: 0.6391 - val_loss: 1.1114\n",
            "Epoch 14/50\n",
            "30/30 - 75s - 3s/step - accuracy: 0.7302 - loss: 0.7366 - val_accuracy: 0.6875 - val_loss: 0.9028\n",
            "Epoch 15/50\n",
            "30/30 - 74s - 2s/step - accuracy: 0.7589 - loss: 0.6742 - val_accuracy: 0.6766 - val_loss: 0.9420\n",
            "Epoch 16/50\n",
            "30/30 - 39s - 1s/step - accuracy: 0.7656 - loss: 0.6898 - val_accuracy: 0.7130 - val_loss: 0.9093\n",
            "Epoch 17/50\n",
            "30/30 - 134s - 4s/step - accuracy: 0.7611 - loss: 0.6833 - val_accuracy: 0.6859 - val_loss: 0.9738\n",
            "Epoch 18/50\n",
            "30/30 - 73s - 2s/step - accuracy: 0.7781 - loss: 0.6207 - val_accuracy: 0.7297 - val_loss: 0.8793\n",
            "Epoch 19/50\n",
            "30/30 - 76s - 3s/step - accuracy: 0.7823 - loss: 0.6212 - val_accuracy: 0.6938 - val_loss: 0.9337\n",
            "Epoch 20/50\n",
            "30/30 - 35s - 1s/step - accuracy: 0.7734 - loss: 0.6961 - val_accuracy: 0.7456 - val_loss: 0.7652\n",
            "Epoch 21/50\n",
            "30/30 - 80s - 3s/step - accuracy: 0.8094 - loss: 0.5722 - val_accuracy: 0.7406 - val_loss: 0.8347\n",
            "Epoch 22/50\n",
            "30/30 - 74s - 2s/step - accuracy: 0.7781 - loss: 0.6082 - val_accuracy: 0.7344 - val_loss: 0.8808\n",
            "Epoch 23/50\n",
            "30/30 - 73s - 2s/step - accuracy: 0.8032 - loss: 0.5617 - val_accuracy: 0.7500 - val_loss: 0.8169\n",
            "Epoch 24/50\n",
            "30/30 - 36s - 1s/step - accuracy: 0.8027 - loss: 0.5855 - val_accuracy: 0.7633 - val_loss: 0.7791\n",
            "Epoch 25/50\n",
            "30/30 - 138s - 5s/step - accuracy: 0.7979 - loss: 0.6189 - val_accuracy: 0.6547 - val_loss: 1.0972\n",
            "Epoch 26/50\n",
            "30/30 - 75s - 3s/step - accuracy: 0.7674 - loss: 0.6557 - val_accuracy: 0.7406 - val_loss: 0.8285\n",
            "Epoch 27/50\n",
            "30/30 - 73s - 2s/step - accuracy: 0.8271 - loss: 0.5178 - val_accuracy: 0.7625 - val_loss: 0.7503\n",
            "Epoch 28/50\n",
            "30/30 - 38s - 1s/step - accuracy: 0.8418 - loss: 0.4967 - val_accuracy: 0.7337 - val_loss: 0.8301\n",
            "Epoch 29/50\n",
            "30/30 - 78s - 3s/step - accuracy: 0.8305 - loss: 0.4927 - val_accuracy: 0.7250 - val_loss: 0.8943\n",
            "Epoch 30/50\n",
            "30/30 - 73s - 2s/step - accuracy: 0.8208 - loss: 0.5378 - val_accuracy: 0.7375 - val_loss: 0.8977\n",
            "Epoch 31/50\n",
            "30/30 - 75s - 2s/step - accuracy: 0.8365 - loss: 0.5106 - val_accuracy: 0.7219 - val_loss: 0.8303\n",
            "Epoch 32/50\n",
            "30/30 - 35s - 1s/step - accuracy: 0.8398 - loss: 0.5281 - val_accuracy: 0.7633 - val_loss: 0.6965\n",
            "Epoch 33/50\n",
            "30/30 - 81s - 3s/step - accuracy: 0.8344 - loss: 0.4804 - val_accuracy: 0.7766 - val_loss: 0.7878\n",
            "Epoch 34/50\n",
            "30/30 - 74s - 2s/step - accuracy: 0.8750 - loss: 0.3729 - val_accuracy: 0.7578 - val_loss: 0.7914\n",
            "Epoch 35/50\n",
            "30/30 - 76s - 3s/step - accuracy: 0.8510 - loss: 0.4427 - val_accuracy: 0.7563 - val_loss: 0.8129\n",
            "Epoch 36/50\n",
            "30/30 - 34s - 1s/step - accuracy: 0.8785 - loss: 0.3512 - val_accuracy: 0.7811 - val_loss: 0.7371\n",
            "Epoch 37/50\n",
            "30/30 - 139s - 5s/step - accuracy: 0.8615 - loss: 0.3965 - val_accuracy: 0.7703 - val_loss: 0.7764\n",
            "Epoch 38/50\n",
            "30/30 - 75s - 2s/step - accuracy: 0.8802 - loss: 0.3702 - val_accuracy: 0.7688 - val_loss: 0.7170\n",
            "Epoch 39/50\n",
            "30/30 - 76s - 3s/step - accuracy: 0.8833 - loss: 0.3444 - val_accuracy: 0.7937 - val_loss: 0.7013\n",
            "Epoch 40/50\n",
            "30/30 - 35s - 1s/step - accuracy: 0.8645 - loss: 0.4119 - val_accuracy: 0.7840 - val_loss: 0.6558\n",
            "Epoch 41/50\n",
            "30/30 - 81s - 3s/step - accuracy: 0.8521 - loss: 0.4050 - val_accuracy: 0.7859 - val_loss: 0.8074\n",
            "Epoch 42/50\n",
            "30/30 - 74s - 2s/step - accuracy: 0.8695 - loss: 0.3676 - val_accuracy: 0.7641 - val_loss: 0.7912\n",
            "Epoch 43/50\n",
            "30/30 - 77s - 3s/step - accuracy: 0.8719 - loss: 0.3836 - val_accuracy: 0.7734 - val_loss: 0.8039\n",
            "Epoch 44/50\n",
            "30/30 - 35s - 1s/step - accuracy: 0.8867 - loss: 0.3563 - val_accuracy: 0.7959 - val_loss: 0.7360\n",
            "Epoch 45/50\n",
            "30/30 - 82s - 3s/step - accuracy: 0.8542 - loss: 0.4676 - val_accuracy: 0.7953 - val_loss: 0.6398\n",
            "Epoch 46/50\n",
            "30/30 - 77s - 3s/step - accuracy: 0.8621 - loss: 0.3879 - val_accuracy: 0.7953 - val_loss: 0.7694\n",
            "Epoch 47/50\n",
            "30/30 - 74s - 2s/step - accuracy: 0.9042 - loss: 0.2746 - val_accuracy: 0.8125 - val_loss: 0.6704\n",
            "Epoch 48/50\n",
            "30/30 - 35s - 1s/step - accuracy: 0.8730 - loss: 0.3510 - val_accuracy: 0.8373 - val_loss: 0.7043\n",
            "Epoch 49/50\n",
            "30/30 - 136s - 5s/step - accuracy: 0.8842 - loss: 0.3516 - val_accuracy: 0.8313 - val_loss: 0.6402\n",
            "Epoch 50/50\n",
            "30/30 - 75s - 2s/step - accuracy: 0.9010 - loss: 0.2773 - val_accuracy: 0.8094 - val_loss: 0.7086\n",
            "Restoring model weights from the end of the best epoch: 45.\n"
          ]
        }
      ]
    },
    {
      "cell_type": "code",
      "source": [
        "model.save('model.h5')\n",
        "\n",
        "# Mengunduh file model\n",
        "from google.colab import files\n",
        "files.download('model.h5')"
      ],
      "metadata": {
        "id": "dmJBA7CwXRFI",
        "outputId": "aa478700-71e1-420d-d7cd-cf3d8d0d66ee",
        "colab": {
          "base_uri": "https://localhost:8080/",
          "height": 73
        }
      },
      "execution_count": null,
      "outputs": [
        {
          "output_type": "stream",
          "name": "stderr",
          "text": [
            "WARNING:absl:You are saving your model as an HDF5 file via `model.save()` or `keras.saving.save_model(model)`. This file format is considered legacy. We recommend using instead the native Keras format, e.g. `model.save('my_model.keras')` or `keras.saving.save_model(model, 'my_model.keras')`. \n"
          ]
        },
        {
          "output_type": "display_data",
          "data": {
            "text/plain": [
              "<IPython.core.display.Javascript object>"
            ],
            "application/javascript": [
              "\n",
              "    async function download(id, filename, size) {\n",
              "      if (!google.colab.kernel.accessAllowed) {\n",
              "        return;\n",
              "      }\n",
              "      const div = document.createElement('div');\n",
              "      const label = document.createElement('label');\n",
              "      label.textContent = `Downloading \"${filename}\": `;\n",
              "      div.appendChild(label);\n",
              "      const progress = document.createElement('progress');\n",
              "      progress.max = size;\n",
              "      div.appendChild(progress);\n",
              "      document.body.appendChild(div);\n",
              "\n",
              "      const buffers = [];\n",
              "      let downloaded = 0;\n",
              "\n",
              "      const channel = await google.colab.kernel.comms.open(id);\n",
              "      // Send a message to notify the kernel that we're ready.\n",
              "      channel.send({})\n",
              "\n",
              "      for await (const message of channel.messages) {\n",
              "        // Send a message to notify the kernel that we're ready.\n",
              "        channel.send({})\n",
              "        if (message.buffers) {\n",
              "          for (const buffer of message.buffers) {\n",
              "            buffers.push(buffer);\n",
              "            downloaded += buffer.byteLength;\n",
              "            progress.value = downloaded;\n",
              "          }\n",
              "        }\n",
              "      }\n",
              "      const blob = new Blob(buffers, {type: 'application/binary'});\n",
              "      const a = document.createElement('a');\n",
              "      a.href = window.URL.createObjectURL(blob);\n",
              "      a.download = filename;\n",
              "      div.appendChild(a);\n",
              "      a.click();\n",
              "      div.remove();\n",
              "    }\n",
              "  "
            ]
          },
          "metadata": {}
        },
        {
          "output_type": "display_data",
          "data": {
            "text/plain": [
              "<IPython.core.display.Javascript object>"
            ],
            "application/javascript": [
              "download(\"download_a3a49b2f-b143-4297-a9e5-c99ff2cf7d31\", \"model.h5\", 12837288)"
            ]
          },
          "metadata": {}
        }
      ]
    }
  ]
}